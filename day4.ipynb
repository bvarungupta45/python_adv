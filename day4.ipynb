{
 "cells": [
  {
   "cell_type": "markdown",
   "metadata": {},
   "source": [
    "rest and peace multiplication\n"
   ]
  },
  {
   "cell_type": "code",
   "execution_count": 21,
   "metadata": {},
   "outputs": [
    {
     "name": "stdout",
     "output_type": "stream",
     "text": [
      "2178\n"
     ]
    }
   ],
   "source": [
    "a,b=map(int,input(\"enter a and b values: \").split())\n",
    "def mul(a,b):\n",
    "    result=0\n",
    "    while(a>0):\n",
    "        if(a%2!=0):\n",
    "            result+=b\n",
    "        a=a//2\n",
    "        b=b*2\n",
    "    return result  \n",
    " \n",
    " \n",
    " print(mul(a,b))     \n",
    "\n",
    "      \n",
    "\n",
    "\n",
    "\n",
    "\n"
   ]
  },
  {
   "cell_type": "markdown",
   "metadata": {},
   "source": [
    "using recursion"
   ]
  },
  {
   "cell_type": "code",
   "execution_count": null,
   "metadata": {},
   "outputs": [],
   "source": [
    "def mul(a,b):\n",
    "    if a==1:\n",
    "        return b\n",
    "    if a%2:\n",
    "        return b+mul(a//2,b*2)    \n",
    "    else:\n",
    "        return mul(a//2,b*2\n",
    "          )    \n",
    "a,b=map(int,input().split())   \n",
    "result=mul(a,b)\n",
    "print(result)\n",
    "\n",
    "\n",
    "    "
   ]
  },
  {
   "cell_type": "markdown",
   "metadata": {},
   "source": [
    "prime using recursion"
   ]
  },
  {
   "cell_type": "code",
   "execution_count": 22,
   "metadata": {},
   "outputs": [
    {
     "name": "stdout",
     "output_type": "stream",
     "text": [
      "False\n"
     ]
    }
   ],
   "source": [
    "import math\n",
    "i=2\n",
    "num=int(input()) #7\n",
    "sq=int(math.sqrt(num)) #2\n",
    "\n",
    "def prime(num):\n",
    "    global i\n",
    "    if i>sq:#2>2 = false    #3>2\n",
    "        return True\n",
    "    if num%i==0:       \n",
    "        return False    \n",
    "    else: #2+1=3\n",
    "        i+=1\n",
    "        return prime(num)        \n",
    "\n",
    "print(prime(num))"
   ]
  },
  {
   "cell_type": "markdown",
   "metadata": {},
   "source": [
    "sum of factors using recursion"
   ]
  },
  {
   "cell_type": "code",
   "execution_count": 27,
   "metadata": {},
   "outputs": [
    {
     "name": "stdout",
     "output_type": "stream",
     "text": [
      "12\n"
     ]
    }
   ],
   "source": [
    "import math\n",
    "i=1\n",
    "num=int(input()) #6\n",
    "sq=int(math.sqrt(num)) #2\n",
    "def fact_sum(num):\n",
    "    global i\n",
    "    v=0\n",
    "    if i>sq:            #1>2            1>2\n",
    "        return 0\n",
    "    if num%i==0:        #6%1==0\n",
    "        if i!=num//i:   #1!=6//1(6)   \n",
    "            v+=num//i   #6\n",
    "        v+=i            #6+1=7\n",
    "    i+=1                #1+1=2\n",
    "    return v+fact_sum(num) \n",
    "\n",
    "print(fact_sum(num))\n",
    "            \n",
    "\n"
   ]
  }
 ],
 "metadata": {
  "kernelspec": {
   "display_name": "Python 3.10.5 64-bit",
   "language": "python",
   "name": "python3"
  },
  "language_info": {
   "codemirror_mode": {
    "name": "ipython",
    "version": 3
   },
   "file_extension": ".py",
   "mimetype": "text/x-python",
   "name": "python",
   "nbconvert_exporter": "python",
   "pygments_lexer": "ipython3",
   "version": "3.10.5"
  },
  "orig_nbformat": 4,
  "vscode": {
   "interpreter": {
    "hash": "67b518e91aff1bf888a1ee3a486ca27278b78f104c7b972a4f986bf229ca6648"
   }
  }
 },
 "nbformat": 4,
 "nbformat_minor": 2
}
