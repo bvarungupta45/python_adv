{
 "cells": [
  {
   "cell_type": "markdown",
   "metadata": {},
   "source": [
    "semiprime"
   ]
  },
  {
   "cell_type": "code",
   "execution_count": 2,
   "metadata": {},
   "outputs": [
    {
     "name": "stdout",
     "output_type": "stream",
     "text": [
      "True\n"
     ]
    }
   ],
   "source": [
    "import math as M\n",
    "\n",
    "def isprime(num):\n",
    "    sq=int(M.sqrt(num))\n",
    "    for i in range(2,sq+1):\n",
    "        if num%i==0:\n",
    "            return False\n",
    "    return True\n",
    "\n",
    "def issemiprime(num):\n",
    "    sq=int(M.sqrt(num))\n",
    "    for i in range(2,sq+1):\n",
    "        if num%i==0 and isprime(i) and isprime(num//i):\n",
    "            return True\n",
    "    return False        \n",
    "                \n",
    "n=int(input())\n",
    "res=issemiprime(n)\n",
    "print(res)"
   ]
  },
  {
   "cell_type": "markdown",
   "metadata": {},
   "source": [
    "recursion"
   ]
  },
  {
   "cell_type": "code",
   "execution_count": null,
   "metadata": {},
   "outputs": [],
   "source": []
  }
 ],
 "metadata": {
  "kernelspec": {
   "display_name": "Python 3.9.12 ('base')",
   "language": "python",
   "name": "python3"
  },
  "language_info": {
   "codemirror_mode": {
    "name": "ipython",
    "version": 3
   },
   "file_extension": ".py",
   "mimetype": "text/x-python",
   "name": "python",
   "nbconvert_exporter": "python",
   "pygments_lexer": "ipython3",
   "version": "3.9.12"
  },
  "orig_nbformat": 4,
  "vscode": {
   "interpreter": {
    "hash": "508e5c5393b3b22b3310695cd08bfd3fbdc993cf7470717b52988a6308d9ecc2"
   }
  }
 },
 "nbformat": 4,
 "nbformat_minor": 2
}
