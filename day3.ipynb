{
 "cells": [
  {
   "cell_type": "markdown",
   "metadata": {},
   "source": [
    "semiprime"
   ]
  },
  {
   "cell_type": "code",
   "execution_count": 4,
   "metadata": {},
   "outputs": [
    {
     "name": "stdout",
     "output_type": "stream",
     "text": [
      "True\n"
     ]
    }
   ],
   "source": [
    "import math as M\n",
    "\n",
    "def isprime(num):\n",
    "    sq=int(M.sqrt(num))\n",
    "    for i in range(2,sq+1):\n",
    "        if num%i==0:\n",
    "            return False\n",
    "    return True\n",
    "\n",
    "def issemiprime(num):\n",
    "    sq=int(M.sqrt(num))\n",
    "    for i in range(2,sq+1):\n",
    "        if num%i==0 and isprime(i) and isprime(num//i):\n",
    "            return True\n",
    "    return False        \n",
    "                \n",
    "n=int(input())\n",
    "res=issemiprime(n)\n",
    "print(res)"
   ]
  },
  {
   "cell_type": "markdown",
   "metadata": {},
   "source": [
    "recursion"
   ]
  },
  {
   "cell_type": "code",
   "execution_count": 15,
   "metadata": {},
   "outputs": [
    {
     "name": "stdout",
     "output_type": "stream",
     "text": [
      "21\n"
     ]
    }
   ],
   "source": [
    "def fun(n):\n",
    "    if n<=0:\n",
    "        return n\n",
    "    return n+fun(n-1)+fun(n-2)\n",
    "    print(fun(n-1)+fun(n-2))\n",
    "\n",
    "n=int(input())\n",
    "res=fun(n)\n",
    "print(res)\n"
   ]
  },
  {
   "cell_type": "code",
   "execution_count": 22,
   "metadata": {},
   "outputs": [
    {
     "name": "stdout",
     "output_type": "stream",
     "text": [
      "1\n",
      "2\n",
      "3\n",
      "1\n",
      "4\n",
      "1\n",
      "2\n",
      "5\n",
      "1\n",
      "2\n",
      "3\n",
      "1\n",
      "None "
     ]
    }
   ],
   "source": [
    "def fun(n):\n",
    "    if n<=0:\n",
    "        return \n",
    "    fun(n-1)\n",
    "    print(n)\n",
    "    fun(n-2)\n",
    "   \n",
    "\n",
    "n=int(input())\n",
    "res=fun(n)\n",
    "print(res,end=\" \")\n"
   ]
  },
  {
   "cell_type": "markdown",
   "metadata": {},
   "source": [
    "happy number"
   ]
  },
  {
   "cell_type": "code",
   "execution_count": 28,
   "metadata": {},
   "outputs": [
    {
     "name": "stdout",
     "output_type": "stream",
     "text": [
      "False\n"
     ]
    }
   ],
   "source": [
    "def hap(num):   #91     82  68  \n",
    "    if num<=9:  #91<=9  82  68\n",
    "        return num==1 or num==7 \n",
    "    s=0\n",
    "    while num:      #91         9      82 8             64\n",
    "        d=num%10    #-->1       9       2 8              4\n",
    "        num=num//10 #-->9       0       8 0              2\n",
    "        s=s+ d*d    #0+1*1=1,   82      4 4+64=68        18\n",
    "    return hap(s)        \n",
    "\n",
    "        \n",
    "num=int(input(\"enter a number\"))\n",
    "res=hap(num)\n",
    "print(res)"
   ]
  }
 ],
 "metadata": {
  "kernelspec": {
   "display_name": "Python 3.9.12 ('base')",
   "language": "python",
   "name": "python3"
  },
  "language_info": {
   "codemirror_mode": {
    "name": "ipython",
    "version": 3
   },
   "file_extension": ".py",
   "mimetype": "text/x-python",
   "name": "python",
   "nbconvert_exporter": "python",
   "pygments_lexer": "ipython3",
   "version": "3.9.12"
  },
  "orig_nbformat": 4,
  "vscode": {
   "interpreter": {
    "hash": "508e5c5393b3b22b3310695cd08bfd3fbdc993cf7470717b52988a6308d9ecc2"
   }
  }
 },
 "nbformat": 4,
 "nbformat_minor": 2
}
